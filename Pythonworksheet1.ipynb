{
  "nbformat": 4,
  "nbformat_minor": 0,
  "metadata": {
    "colab": {
      "name": "Pythonworksheet1.ipynb",
      "provenance": [],
      "authorship_tag": "ABX9TyMrF+yyqdn/1GqYQUeNEw1i",
      "include_colab_link": true
    },
    "kernelspec": {
      "name": "python3",
      "display_name": "Python 3"
    }
  },
  "cells": [
    {
      "cell_type": "markdown",
      "metadata": {
        "id": "view-in-github",
        "colab_type": "text"
      },
      "source": [
        "<a href=\"https://colab.research.google.com/github/DipeshChothwe/Worksheets/blob/master/Pythonworksheet1.ipynb\" target=\"_parent\"><img src=\"https://colab.research.google.com/assets/colab-badge.svg\" alt=\"Open In Colab\"/></a>"
      ]
    },
    {
      "cell_type": "code",
      "metadata": {
        "id": "rBZblExHv19v",
        "colab_type": "code",
        "colab": {
          "base_uri": "https://localhost:8080/",
          "height": 34
        },
        "outputId": "45807d7a-12c6-45f9-d2b1-6bf1f5a2198e"
      },
      "source": [
        "def factorial(num):\n",
        "  fact = 1\n",
        "  if num < 0:\n",
        "   print(\"Sorry, factorial does not exist for negative numbers\")\n",
        "  elif num == 0:\n",
        "   print(\"The factorial of 0 is 1\")\n",
        "  else:\n",
        "   for i in range(1,num + 1):\n",
        "       fact = fact*i\n",
        "  print(\"The factorial of {} is\".format(num), fact)\n",
        "\n",
        "factorial(5)"
      ],
      "execution_count": 6,
      "outputs": [
        {
          "output_type": "stream",
          "text": [
            "The factorial of 5 is 120\n"
          ],
          "name": "stdout"
        }
      ]
    },
    {
      "cell_type": "code",
      "metadata": {
        "id": "JRrIYRbuyXwk",
        "colab_type": "code",
        "colab": {
          "base_uri": "https://localhost:8080/",
          "height": 35
        },
        "outputId": "e5fca4bb-ac61-4e10-8d9e-03096bbc004b"
      },
      "source": [
        "def isPrimeorComposite(n) : \n",
        "\n",
        "    if (n <= 1) : \n",
        "        return False\n",
        "    if (n <= 3) : \n",
        "        return True\n",
        "    import math\n",
        "    i = 5\n",
        "    for i in range(2,int((math.sqrt(n))+1)):\n",
        "      if (n%i == 0):\n",
        "        return \"The given number is a composite number.\"\n",
        "    return \"The given number is prime.\"\n",
        "\n",
        "isPrimeorComposite(31)"
      ],
      "execution_count": 18,
      "outputs": [
        {
          "output_type": "execute_result",
          "data": {
            "application/vnd.google.colaboratory.intrinsic+json": {
              "type": "string"
            },
            "text/plain": [
              "'The given number is prime.'"
            ]
          },
          "metadata": {
            "tags": []
          },
          "execution_count": 18
        }
      ]
    },
    {
      "cell_type": "code",
      "metadata": {
        "id": "iosAFGPE2zIS",
        "colab_type": "code",
        "colab": {
          "base_uri": "https://localhost:8080/",
          "height": 34
        },
        "outputId": "a9de9b4d-b1a1-4e1f-d119-daa549a10f61"
      },
      "source": [
        "def isPalindrome(s):\n",
        "    s1 = s[::-1]\n",
        "    if (s1 == s):\n",
        "      print(\"The given string is a palindrome.\")\n",
        "    else:\n",
        "      print(\"The given string is not a palindrome\")\n",
        "\n",
        "isPalindrome('mnbvhvbnm')\n"
      ],
      "execution_count": 22,
      "outputs": [
        {
          "output_type": "stream",
          "text": [
            "The given string is a palindrome.\n"
          ],
          "name": "stdout"
        }
      ]
    },
    {
      "cell_type": "code",
      "metadata": {
        "id": "NULuheJn5fLP",
        "colab_type": "code",
        "colab": {
          "base_uri": "https://localhost:8080/",
          "height": 34
        },
        "outputId": "7fe293f2-e044-4cad-9102-2a2d812d64b8"
      },
      "source": [
        "def stringfreq(string):\n",
        "  all_freq = {} \n",
        "  \n",
        "  for i in string: \n",
        "    if i in all_freq: \n",
        "        all_freq[i] += 1\n",
        "    else: \n",
        "        all_freq[i] = 1\n",
        "  return all_freq\n",
        "\n",
        "stringfreq('fdtygvghgfdf')"
      ],
      "execution_count": 24,
      "outputs": [
        {
          "output_type": "execute_result",
          "data": {
            "text/plain": [
              "{'d': 2, 'f': 3, 'g': 3, 'h': 1, 't': 1, 'v': 1, 'y': 1}"
            ]
          },
          "metadata": {
            "tags": []
          },
          "execution_count": 24
        }
      ]
    },
    {
      "cell_type": "code",
      "metadata": {
        "id": "ETn9QQpf67MD",
        "colab_type": "code",
        "colab": {
          "base_uri": "https://localhost:8080/",
          "height": 85
        },
        "outputId": "1e3b6fb1-1c91-4707-98e3-b268a880ec67"
      },
      "source": [
        "def pythagoras(opposite_side,adjacent_side,hypotenuse):\n",
        "        if opposite_side == str(\"x\"):\n",
        "            return (\"Opposite = \" + str(((hypotenuse**2) - (adjacent_side**2))**0.5))\n",
        "        elif adjacent_side == str(\"x\"):\n",
        "            return (\"Adjacent = \" + str(((hypotenuse**2) - (opposite_side**2))**0.5))\n",
        "        elif hypotenuse == str(\"x\"):\n",
        "            return (\"Hypotenuse = \" + str(((opposite_side**2) + (adjacent_side**2))**0.5))\n",
        "        else:\n",
        "            return \"You know the answer!\"\n",
        "    \n",
        "print(pythagoras(3,4,'x'))\n",
        "print(pythagoras(3,'x',5))\n",
        "print(pythagoras('x',4,5))\n",
        "print(pythagoras(3,4,5))"
      ],
      "execution_count": 25,
      "outputs": [
        {
          "output_type": "stream",
          "text": [
            "Hypotenuse = 5.0\n",
            "Adjacent = 4.0\n",
            "Opposite = 3.0\n",
            "You know the answer!\n"
          ],
          "name": "stdout"
        }
      ]
    }
  ]
}