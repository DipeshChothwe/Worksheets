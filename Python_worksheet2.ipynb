{
  "nbformat": 4,
  "nbformat_minor": 0,
  "metadata": {
    "colab": {
      "name": "Python worksheet2.ipynb",
      "provenance": [],
      "collapsed_sections": [],
      "authorship_tag": "ABX9TyN7xzbtmoODGMPrAXg5jxti",
      "include_colab_link": true
    },
    "kernelspec": {
      "name": "python3",
      "display_name": "Python 3"
    }
  },
  "cells": [
    {
      "cell_type": "markdown",
      "metadata": {
        "id": "view-in-github",
        "colab_type": "text"
      },
      "source": [
        "<a href=\"https://colab.research.google.com/github/DipeshChothwe/Worksheets/blob/master/Python_worksheet2.ipynb\" target=\"_parent\"><img src=\"https://colab.research.google.com/assets/colab-badge.svg\" alt=\"Open In Colab\"/></a>"
      ]
    },
    {
      "cell_type": "code",
      "metadata": {
        "id": "hn6g4tUid6mv",
        "colab_type": "code",
        "colab": {
          "base_uri": "https://localhost:8080/",
          "height": 34
        },
        "outputId": "1df85776-a0ba-4a07-d057-50221b55f36c"
      },
      "source": [
        "#Q12 Suppose you have a string “I+Love+Python”, write a small code to replace ‘+’ with space in python.\n",
        "string = 'I+Love+Python'\n",
        "string.replace('+', ' ')"
      ],
      "execution_count": 8,
      "outputs": [
        {
          "output_type": "stream",
          "text": [
            "I Love Python\n"
          ],
          "name": "stdout"
        }
      ]
    },
    {
      "cell_type": "code",
      "metadata": {
        "id": "_vUPTzbCgE_o",
        "colab_type": "code",
        "colab": {
          "base_uri": "https://localhost:8080/",
          "height": 51
        },
        "outputId": "379d7c3c-e8ac-4278-dc9e-824a8614490f"
      },
      "source": [
        "#Q13 Getting the datatype of a variable in python. \n",
        "a = \"8\"\n",
        "print(\"The ASCII value of {} is: \" .format(a), ord(a))\n",
        "print(\"datatype of variable {} is: \".format(a), type(a))"
      ],
      "execution_count": 11,
      "outputs": [
        {
          "output_type": "stream",
          "text": [
            "The ASCII value of 8 is:  56\n",
            "datatype of variable 8 is:  <class 'str'>\n"
          ],
          "name": "stdout"
        }
      ]
    },
    {
      "cell_type": "code",
      "metadata": {
        "id": "zVwjaqmqmC_S",
        "colab_type": "code",
        "colab": {
          "base_uri": "https://localhost:8080/",
          "height": 102
        },
        "outputId": "8cf46173-ce9c-401a-b287-fe9dca678eac"
      },
      "source": [
        "#Q14 Write a python program to solve a quadratic equation of the form 𝑎𝑥2+𝑏𝑥+𝑐=0. Where a, b and c are to be taken by user input. Handle the erroneous input, such as ‘a’ should not be equal to 0. \n",
        "\n",
        "import cmath\n",
        "print(\"We will help you solve quadratic equation of the form 𝑎𝑥2+𝑏𝑥+𝑐=0\")\n",
        "\n",
        "a = int(input(\"Tell us coefficient for 𝑥2 i.e. \\\"a\\\"\"))\n",
        "b = int(input(\"Tell us coefficient for 𝑥 i.e. \\\"b\\\"\"))\n",
        "c = int(input(\"Tell us the constant i.e. \\\"c\\\"\"))\n",
        "\n",
        "if a == 0:\n",
        "  print(\"The coefficient for 𝑥2 can not be 0\")\n",
        "else:\n",
        "  d = (b**2) - (4*a*c)\n",
        "\n",
        "  # find two solutions\n",
        "  sol1 = (-b-cmath.sqrt(d))/(2*a)\n",
        "  sol2 = (-b+cmath.sqrt(d))/(2*a)\n",
        "\n",
        "  print('The solution are {0} and {1}'.format(sol1,sol2))\n",
        "\n"
      ],
      "execution_count": 28,
      "outputs": [
        {
          "output_type": "stream",
          "text": [
            "We will help you solve quadratic equation of the form 𝑎𝑥2+𝑏𝑥+𝑐=0\n",
            "Tell us coefficient for 𝑥2 i.e. \"a\"0\n",
            "Tell us coefficient for 𝑥 i.e. \"b\"5\n",
            "Tell us the constant i.e. \"c\"1\n",
            "The coefficient for 𝑥2 can not be 0\n"
          ],
          "name": "stdout"
        }
      ]
    },
    {
      "cell_type": "code",
      "metadata": {
        "id": "cyv6YAXNpuBY",
        "colab_type": "code",
        "colab": {
          "base_uri": "https://localhost:8080/",
          "height": 68
        },
        "outputId": "5376eff5-fddc-4195-af98-7f9307f90f2a"
      },
      "source": [
        "#Q15 Python program to find the sum of first ‘n’ natural numbers without using any loop. Ask user to input the value of ‘n’. \n",
        "print(\"We will help you find the sum of first ‘n’ natural numbers\")\n",
        "n = int(input(\"Give us value for \\\"n\\\"\"))\n",
        "l = list(range(0, n+1))\n",
        "print(\"Sum of first {} natural numbers is \".format(n), sum(l))"
      ],
      "execution_count": 2,
      "outputs": [
        {
          "output_type": "stream",
          "text": [
            "We will help you find the sum of first ‘n’ natural numbers\n",
            "Give us value for \"n\"5\n",
            "Sum of first 5 natural numbers is  15\n"
          ],
          "name": "stdout"
        }
      ]
    }
  ]
}