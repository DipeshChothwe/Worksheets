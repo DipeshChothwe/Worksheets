{
  "nbformat": 4,
  "nbformat_minor": 0,
  "metadata": {
    "colab": {
      "name": "CheckWebPageTitle.ipynb",
      "provenance": [],
      "authorship_tag": "ABX9TyPnylBXGjbQ6oGKnJDDEQ5T",
      "include_colab_link": true
    },
    "kernelspec": {
      "name": "python3",
      "display_name": "Python 3"
    }
  },
  "cells": [
    {
      "cell_type": "markdown",
      "metadata": {
        "id": "view-in-github",
        "colab_type": "text"
      },
      "source": [
        "<a href=\"https://colab.research.google.com/github/DipeshChothwe/Worksheets/blob/master/CheckWebPageTitle.ipynb\" target=\"_parent\"><img src=\"https://colab.research.google.com/assets/colab-badge.svg\" alt=\"Open In Colab\"/></a>"
      ]
    },
    {
      "cell_type": "code",
      "metadata": {
        "id": "_EiCf1wfWJb0",
        "colab_type": "code",
        "colab": {
          "base_uri": "https://localhost:8080/",
          "height": 51
        },
        "outputId": "5ee869a7-6d43-41a9-d89d-507f485e0248"
      },
      "source": [
        "#python program to check whether a webpage contains a title or not\n",
        "\n",
        "from urllib.request import urlopen\n",
        "from urllib.error import HTTPError\n",
        "from bs4 import BeautifulSoup\n",
        "def CheckTitle(url):\n",
        "    try:\n",
        "        html = urlopen(url)\n",
        "    except HTTPError as e:\n",
        "        return None\n",
        "    try:\n",
        "        soup = BeautifulSoup(html.read(), \"lxml\")\n",
        "        title = soup.title.name\n",
        "        if title == None:\n",
        "            return \"Title could not be found\"\n",
        "        else:\n",
        "            return \"This site has a title\"\n",
        "    \n",
        "    except AttributeError as e:\n",
        "        return None\n",
        "\n",
        "print(CheckTitle(\"https://www.crummy.com/software/BeautifulSoup/bs4/doc/#find-parents-and-find-parent\"))\n",
        "print(CheckTitle(\"https://www.google.co.in/\"))\n"
      ],
      "execution_count": null,
      "outputs": [
        {
          "output_type": "stream",
          "text": [
            "This site has a title\n",
            "This site has a title\n"
          ],
          "name": "stdout"
        }
      ]
    }
  ]
}